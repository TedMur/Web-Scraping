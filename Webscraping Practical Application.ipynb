{
 "cells": [
  {
   "cell_type": "code",
   "execution_count": 1,
   "metadata": {},
   "outputs": [],
   "source": [
    "# Declare Dependencies \n",
    "from bs4 import BeautifulSoup as bs\n",
    "import requests\n",
    "import pandas as pd\n",
    "import shutil\n",
    "import time\n",
    "from splinter import Browser"
   ]
  },
  {
   "cell_type": "code",
   "execution_count": 2,
   "metadata": {},
   "outputs": [],
   "source": [
    "# Choose the executable path to driver \n",
    "executable_path = {'executable_path': '/usr/local/bin/chromedriver'}\n",
    "browser = Browser('chrome', **executable_path, headless=False)"
   ]
  },
  {
   "cell_type": "code",
   "execution_count": 3,
   "metadata": {},
   "outputs": [],
   "source": [
    "# Visit KC Star website\n",
    "url = 'https://www.kansascity.com/news/business/'\n",
    "browser.visit(url)"
   ]
  },
  {
   "cell_type": "code",
   "execution_count": 16,
   "metadata": {},
   "outputs": [],
   "source": [
    "html = browser.html\n",
    "soup = bs(html, 'html.parser')\n",
    "\n",
    "news_title = soup.find('h3',class_='h1').find('a').text\n",
    "news_summary = soup.find('summary').text"
   ]
  },
  {
   "cell_type": "code",
   "execution_count": 21,
   "metadata": {},
   "outputs": [],
   "source": [
    "news_title = news_title.replace('    ', '')\n",
    "news_summary = news_summary.replace('  ', '')"
   ]
  },
  {
   "cell_type": "code",
   "execution_count": 22,
   "metadata": {},
   "outputs": [
    {
     "name": "stdout",
     "output_type": "stream",
     "text": [
      "\n",
      "New midtown restaurant will showcase area craft beers — but not just for drinking\n",
      "  \n",
      "\n",
      "Brewer’s Kitchen is taking the former KimChee space on Gillham Road.\n",
      "\n"
     ]
    }
   ],
   "source": [
    "print(news_title)\n",
    "print(news_summary)"
   ]
  },
  {
   "cell_type": "code",
   "execution_count": null,
   "metadata": {},
   "outputs": [],
   "source": []
  },
  {
   "cell_type": "code",
   "execution_count": null,
   "metadata": {},
   "outputs": [],
   "source": [
    "# for loop to get path for each imgs\n",
    "# xpath1 = \"//*[@id='product-section']/div[2]/div[i]/a/img\"\n",
    "mars_hemisphere_url = 'https://astrogeology.usgs.gov/search/results?q=hemisphere+enhanced&k1=target&v1=Mars'\n",
    "browser.visit(mars_hemisphere_url)\n",
    "time.sleep(1)\n",
    " \n",
    "\n",
    "xpath1 = []\n",
    "hemi_url = []\n",
    "\n",
    "# Get path for each hemisphere website\n",
    "for i in range(1,5):\n",
    "    x = f\"//*[@id='product-section']/div[2]/div[{i}]/a/img\"\n",
    "\n",
    "    \n",
    "    \n",
    "    results = browser.find_by_xpath(x)\n",
    "    img = results[0]\n",
    "    img.click()\n",
    "    time.sleep(1)\n",
    "\n",
    "    xpath3 = \"//*[@id='wide-image']/div/ul/li/a\"\n",
    "    results = browser.find_by_xpath(xpath3)\n",
    "    img = results[0]\n",
    "    img.click()\n",
    "    time.sleep(1)\n",
    "    \n",
    "    html = browser.html\n",
    "    soup = bs(html, 'html.parser')\n",
    "    url = soup.find(\"img\")[\"src\"]\n",
    "    hemi_url.append(url)\n",
    "    \n",
    "    \n",
    "#     browser.windows.current = browser.windows[-1]\n",
    "#     hemi_img_html = browser.html\n",
    "#     browser.windows.current = browser.windows[0]\n",
    "#     browser.windows[-1].close()\n",
    "\n",
    "    \n",
    "    \n",
    "    url_hemisphere = \"https://astrogeology.usgs.gov/search/results?q=hemisphere+enhanced&k1=target&v1=Mars\"\n",
    "    browser.visit(url_hemisphere)"
   ]
  }
 ],
 "metadata": {
  "hide_input": false,
  "kernelspec": {
   "display_name": "Python 3",
   "language": "python",
   "name": "python3"
  },
  "language_info": {
   "codemirror_mode": {
    "name": "ipython",
    "version": 3
   },
   "file_extension": ".py",
   "mimetype": "text/x-python",
   "name": "python",
   "nbconvert_exporter": "python",
   "pygments_lexer": "ipython3",
   "version": "3.7.1"
  },
  "toc": {
   "base_numbering": 1,
   "nav_menu": {},
   "number_sections": true,
   "sideBar": true,
   "skip_h1_title": false,
   "title_cell": "Table of Contents",
   "title_sidebar": "Contents",
   "toc_cell": false,
   "toc_position": {},
   "toc_section_display": true,
   "toc_window_display": false
  },
  "varInspector": {
   "cols": {
    "lenName": 16,
    "lenType": 16,
    "lenVar": 40
   },
   "kernels_config": {
    "python": {
     "delete_cmd_postfix": "",
     "delete_cmd_prefix": "del ",
     "library": "var_list.py",
     "varRefreshCmd": "print(var_dic_list())"
    },
    "r": {
     "delete_cmd_postfix": ") ",
     "delete_cmd_prefix": "rm(",
     "library": "var_list.r",
     "varRefreshCmd": "cat(var_dic_list()) "
    }
   },
   "types_to_exclude": [
    "module",
    "function",
    "builtin_function_or_method",
    "instance",
    "_Feature"
   ],
   "window_display": false
  }
 },
 "nbformat": 4,
 "nbformat_minor": 2
}
